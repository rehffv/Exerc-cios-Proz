{
  "nbformat": 4,
  "nbformat_minor": 0,
  "metadata": {
    "colab": {
      "provenance": [],
      "collapsed_sections": [],
      "authorship_tag": "ABX9TyORWMKFGyW9hbcOT5BWmK1R",
      "include_colab_link": true
    },
    "kernelspec": {
      "name": "python3",
      "display_name": "Python 3"
    },
    "language_info": {
      "name": "python"
    }
  },
  "cells": [
    {
      "cell_type": "markdown",
      "metadata": {
        "id": "view-in-github",
        "colab_type": "text"
      },
      "source": [
        "<a href=\"https://colab.research.google.com/github/rehffv/Exerc-cios-Proz/blob/main/Code_Park01_31_10_(Calculadora_com_menu).ipynb\" target=\"_parent\"><img src=\"https://colab.research.google.com/assets/colab-badge.svg\" alt=\"Open In Colab\"/></a>"
      ]
    },
    {
      "cell_type": "code",
      "execution_count": 142,
      "metadata": {
        "colab": {
          "base_uri": "https://localhost:8080/"
        },
        "id": "dewtyFBsEcer",
        "outputId": "7d08f365-ae0b-4882-948e-fefbad8a1f42"
      },
      "outputs": [
        {
          "output_type": "stream",
          "name": "stdout",
          "text": [
            "\n",
            "\n",
            "# Calculadora com Menu #\n",
            "[1] Adição\n",
            "[2] Subtração\n",
            "[3] Multiplicação\n",
            "[4] Divisão\n",
            "[5] Encerrar o programa\n",
            "\n",
            "Insira um número correspondente à opção desejada: 1\n",
            "\n",
            "Sua opção foi: 1\n",
            "\n",
            "\n",
            "Insira um número: 10\n",
            "Insira outro número: 10\n",
            "\n",
            "O seu resultado é: >>>20.0<<<\n",
            "\n",
            "\n",
            "# Calculadora com Menu #\n",
            "[1] Adição\n",
            "[2] Subtração\n",
            "[3] Multiplicação\n",
            "[4] Divisão\n",
            "[5] Encerrar o programa\n",
            "\n",
            "Insira um número correspondente à opção desejada: 50\n",
            "\n",
            "Sua opção foi: 50\n",
            "\n",
            "\n",
            ">>> ERRO <<< (Opção Inválida!)\n",
            "\n",
            "\n",
            "# Calculadora com Menu #\n",
            "[1] Adição\n",
            "[2] Subtração\n",
            "[3] Multiplicação\n",
            "[4] Divisão\n",
            "[5] Encerrar o programa\n",
            "\n",
            "Insira um número correspondente à opção desejada: 5\n",
            "\n",
            "Sua opção foi: 5\n",
            "\n",
            "\n",
            "...Saindo do programa...\n"
          ]
        }
      ],
      "source": [
        "def menu ():\n",
        "\n",
        "     print()\n",
        "     print()\n",
        "     print('# Calculadora com Menu #')\n",
        "     print('[1] Adição')\n",
        "     print('[2] Subtração')\n",
        "     print('[3] Multiplicação')\n",
        "     print('[4] Divisão')\n",
        "     print('[5] Encerrar o programa')\n",
        "     print()\n",
        "     op = int(input(\"Insira um número correspondente à opção desejada: \"))\n",
        "     return op\n",
        "\n",
        "def calculadora ():\n",
        "\n",
        "      x = str(input(\"Insira um número: \"))\n",
        "      xx=x.replace(\",\", \".\") #para o caso do usuário inserir vírgula ao invés de ponto\n",
        "      num1=float(xx)\n",
        "      y = str(input(\"Insira outro número: \"))\n",
        "      yy=y.replace(\",\", \".\") #para o caso do usuário inserir vírgula ao invés de ponto\n",
        "      num2=float(yy)\n",
        "      print()\n",
        "\n",
        "      soma = num1+num2\n",
        "      sub = num1-num2\n",
        "      mult = num1*num2\n",
        "      div = num1/num2\n",
        "\n",
        "      if (op==1): return soma\n",
        "      elif (op==2): return sub\n",
        "      elif (op==3): return mult\n",
        "      elif (op==4): return div\n",
        "\n",
        "i=10\n",
        "for op in range (i):\n",
        " i+=1\n",
        " op=menu()\n",
        " print()\n",
        " print (f\"Sua opção foi: {op}\")\n",
        " print()\n",
        " print()\n",
        "\n",
        " if   op == 5:\n",
        "      print (\"...Saindo do programa...\")\n",
        "      break\n",
        " elif op == 1:\n",
        "      resultado=(calculadora())\n",
        "      print (f'O seu resultado é: >>>{resultado}<<<')\n",
        " elif op == 2:\n",
        "      resultado=(calculadora())\n",
        "      print (f'O seu resultado é: >>>{resultado}<<<')\n",
        " elif op == 3:\n",
        "      resultado=(calculadora())\n",
        "      print (f'O seu resultado é: >>>{resultado}<<<')\n",
        " elif op == 4:\n",
        "      resultado=(calculadora())\n",
        "      print (f'O seu resultado é: >>>{resultado}<<<')\n",
        " else:\n",
        "     print (\">>> ERRO <<< (Opção Inválida!)\")"
      ]
    }
  ]
}