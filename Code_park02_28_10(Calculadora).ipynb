{
  "nbformat": 4,
  "nbformat_minor": 0,
  "metadata": {
    "colab": {
      "provenance": [],
      "collapsed_sections": [],
      "authorship_tag": "ABX9TyMFeZ/3Ey62RWmNhXXJjL3a",
      "include_colab_link": true
    },
    "kernelspec": {
      "name": "python3",
      "display_name": "Python 3"
    },
    "language_info": {
      "name": "python"
    }
  },
  "cells": [
    {
      "cell_type": "markdown",
      "metadata": {
        "id": "view-in-github",
        "colab_type": "text"
      },
      "source": [
        "<a href=\"https://colab.research.google.com/github/rehffv/Exerc-cios-Proz/blob/main/Code_park02_28_10(Calculadora).ipynb\" target=\"_parent\"><img src=\"https://colab.research.google.com/assets/colab-badge.svg\" alt=\"Open In Colab\"/></a>"
      ]
    },
    {
      "cell_type": "code",
      "source": [
        "def calculadora (x, y):\n",
        "\n",
        "    x = str(input(\"Insira um número: \"))\n",
        "    xx=x.replace(\",\", \".\") #para o caso do usuário inserir vírgula ao invés de ponto\n",
        "    num1=float(xx)\n",
        "    y = str(input(\"Insira outro número: \"))\n",
        "    yy=y.replace(\",\", \".\")\n",
        "    num2=float(yy)\n",
        "\n",
        "    op = int(input(\"Insira um número correspondente à operação desejada: 1: Adição, 2: Subtração, 3: Multiplicação, 4: Divisão\"))\n",
        "    \n",
        "    soma = num1+num2\n",
        "    sub = num1-num2\n",
        "    mult = num1*num2\n",
        "    div = num1/num2\n",
        "    \n",
        "    if (op==1): return soma\n",
        "    elif (op==2): return sub\n",
        "    elif (op==3): return mult\n",
        "    elif (op==4): return div\n",
        "    else:\n",
        "      return 0\n",
        "    \n",
        "       \n",
        "resultado = calculadora (0, 0)\n",
        "\n",
        "if (resultado == 0):\n",
        "  print (\">>> ERRO (Operador inexistente)<<<\")\n",
        "else:\n",
        "  print (f'O seu resultado é: {resultado}')    "
      ],
      "metadata": {
        "colab": {
          "base_uri": "https://localhost:8080/"
        },
        "id": "9hmuZhB_Poso",
        "outputId": "e8674683-1895-42d0-fe87-68b3b31d72ba"
      },
      "execution_count": 44,
      "outputs": [
        {
          "output_type": "stream",
          "name": "stdout",
          "text": [
            "Insira um número: 50\n",
            "Insira outro número: 10\n",
            "Insira um número correspondente à operação desejada: 1: Adição, 2: Subtração, 3: Multiplicação, 4: Divisão4\n",
            "O seu resultado é: 5.0\n"
          ]
        }
      ]
    }
  ]
}