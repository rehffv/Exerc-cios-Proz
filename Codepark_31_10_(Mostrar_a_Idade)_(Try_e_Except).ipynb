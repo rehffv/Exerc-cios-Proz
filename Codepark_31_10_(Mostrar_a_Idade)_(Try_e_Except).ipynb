{
  "nbformat": 4,
  "nbformat_minor": 0,
  "metadata": {
    "colab": {
      "provenance": [],
      "collapsed_sections": [],
      "authorship_tag": "ABX9TyOpAsk1xJAwcPP0lCxKChhK",
      "include_colab_link": true
    },
    "kernelspec": {
      "name": "python3",
      "display_name": "Python 3"
    },
    "language_info": {
      "name": "python"
    }
  },
  "cells": [
    {
      "cell_type": "markdown",
      "metadata": {
        "id": "view-in-github",
        "colab_type": "text"
      },
      "source": [
        "<a href=\"https://colab.research.google.com/github/rehffv/Exerc-cios-Proz/blob/main/Codepark_31_10_(Mostrar_a_Idade)_(Try_e_Except).ipynb\" target=\"_parent\"><img src=\"https://colab.research.google.com/assets/colab-badge.svg\" alt=\"Open In Colab\"/></a>"
      ]
    },
    {
      "cell_type": "code",
      "execution_count": 5,
      "metadata": {
        "colab": {
          "base_uri": "https://localhost:8080/"
        },
        "id": "zYbUBku7TlGG",
        "outputId": "e19c7d23-eaef-40cf-bb42-ad6d3169223d"
      },
      "outputs": [
        {
          "output_type": "stream",
          "name": "stdout",
          "text": [
            "**Descubra a sua idade**\n",
            "Digite seu Nome Completo: Renata Souza de Paula\n",
            "\n",
            "Digite o seu ANO de nascimento: 1921\n",
            "\n",
            ">>ERRO<< (O ano de nascimento deve ser entre 1922 e 2021)\n",
            "\n",
            "Digite o seu ANO de nascimento: 2022\n",
            "\n",
            ">>ERRO<< (O ano de nascimento deve ser entre 1922 e 2021)\n",
            "\n",
            "Digite o seu ANO de nascimento: LETRAS\n",
            "\n",
            ">>>ERRO<<< (Não foi digitado um número inteiro)\n",
            "\n",
            "Digite o seu ANO de nascimento: 1987\n",
            "\n",
            "Renata Souza de Paula, você tem (ou irá completar) 35 anos de idade!\n",
            "\n",
            "...Finalizando...\n"
          ]
        }
      ],
      "source": [
        "print(\"**Descubra a sua idade**\")\n",
        "rodar = True\n",
        "nome=str(input(\"Digite seu Nome Completo: \"))\n",
        "print()\n",
        "while(rodar):\n",
        "\n",
        "    try:\n",
        "       ano=int(input(\"Digite o seu ANO de nascimento: \"))\n",
        "       print()\n",
        "       if (ano>=1922 and ano<=2021):\n",
        "          idade=2022-ano\n",
        "          print(f\"{nome}, você tem (ou irá completar) {idade} anos de idade!\")\n",
        "          print()\n",
        "          rodar = False\n",
        "       else:\n",
        "          print(\">>ERRO<< (O ano de nascimento deve ser entre 1922 e 2021)\")\n",
        "          print()\n",
        "    except:\n",
        "          print()\n",
        "          print(\">>>ERRO<<< (Não foi digitado um número inteiro)\")\n",
        "          print()\n",
        "\n",
        "print(\"...Finalizando...\")"
      ]
    }
  ]
}